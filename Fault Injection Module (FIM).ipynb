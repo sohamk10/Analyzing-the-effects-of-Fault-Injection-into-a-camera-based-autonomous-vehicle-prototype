{
 "cells": [
  {
   "cell_type": "markdown",
   "metadata": {},
   "source": [
    "# Road Following Live (with camera)"
   ]
  },
  {
   "cell_type": "code",
   "execution_count": 1,
   "metadata": {},
   "outputs": [],
   "source": [
    "from adafruit_servokit import ServoKit\n",
    "import time\n",
    "\n",
    "\n",
    "kit=ServoKit(channels=16) # using the PCA9685 we can control up to 16-PWD devices\n",
    "kit.frequency = 60 # frequency of all PCA9685 16-PWD channels\n",
    "kit.servo[7].actuation_range = 1 #set the range of the selectable devices  0 or 1 according to our mux we have two\n",
    "kit.servo[7].angle = 1"
   ]
  },
  {
   "cell_type": "code",
   "execution_count": 2,
   "metadata": {},
   "outputs": [],
   "source": [
    "from matplotlib import pyplot as plt\n",
    "from skimage import filters\n",
    "import random\n",
    "import cv2\n",
    "import traitlets\n",
    "import numpy as np\n",
    "from IPython.display import display\n",
    "from jetcam.utils import bgr8_to_jpeg\n",
    "from jupyter_clickable_image_widget import ClickableImageWidget\n",
    "import ipywidgets.widgets as widgets\n",
    "from PIL import Image, ImageFilter, ImageDraw, ImageEnhance\n",
    "import torch\n",
    "from torch2trt import TRTModule\n",
    "import ipywidgets\n",
    "from ipywidgets import Layout, Button, Box\n",
    "#from jetcam.utils import bgr8_to_jpeg"
   ]
  },
  {
   "cell_type": "markdown",
   "metadata": {},
   "source": [
    "Load the optimized model (created with the [`optimize_model.ipynb` notebook](./optimize_model.ipynb)) executing the cell below"
   ]
  },
  {
   "cell_type": "code",
   "execution_count": 3,
   "metadata": {},
   "outputs": [],
   "source": [
    "model_trt = TRTModule()\n",
    "model_trt.load_state_dict(torch.load('DD.pth'))\n",
    "\n",
    "\n",
    "from jetracer.nvidia_racecar import NvidiaRacecar\n",
    "car = NvidiaRacecar()\n",
    "\n",
    "\n",
    "from jetcam.usb_camera import USBCamera\n",
    "camera = USBCamera(width=224, height=224, capture_width=640, capture_height=480, capture_device=2)\n",
    "camera.running = True"
   ]
  },
  {
   "cell_type": "code",
   "execution_count": 4,
   "metadata": {},
   "outputs": [],
   "source": [
    "steerings_ab = []"
   ]
  },
  {
   "cell_type": "code",
   "execution_count": 5,
   "metadata": {},
   "outputs": [
    {
     "data": {
      "application/vnd.jupyter.widget-view+json": {
       "model_id": "2fd82f9ce14d492c90132e3b3aaff5ed",
       "version_major": 2,
       "version_minor": 0
      },
      "text/plain": [
       "HBox(children=(VBox(children=(Checkbox(value=False, description='Gaussian Blur', layout=Layout(width='300px'))…"
      ]
     },
     "metadata": {},
     "output_type": "display_data"
    },
    {
     "data": {
      "application/vnd.jupyter.widget-view+json": {
       "model_id": "7423e4d20e1d4feaa955a12832057fe2",
       "version_major": 2,
       "version_minor": 0
      },
      "text/plain": [
       "HBox(children=(Checkbox(value=False, description='Mud splash', layout=Layout(width='300px')), Checkbox(value=F…"
      ]
     },
     "metadata": {},
     "output_type": "display_data"
    },
    {
     "data": {
      "application/vnd.jupyter.widget-view+json": {
       "model_id": "0a13ad3838fd43c6b12bc179d82e5536",
       "version_major": 2,
       "version_minor": 0
      },
      "text/plain": [
       "HBox(children=(Checkbox(value=False, description='Dirt', layout=Layout(width='300px')), Checkbox(value=False, …"
      ]
     },
     "metadata": {},
     "output_type": "display_data"
    },
    {
     "data": {
      "application/vnd.jupyter.widget-view+json": {
       "model_id": "146c2da288d242959149c5883a138c26",
       "version_major": 2,
       "version_minor": 0
      },
      "text/plain": [
       "HBox(children=(Checkbox(value=False, description='Snow', layout=Layout(width='300px')), Checkbox(value=False, …"
      ]
     },
     "metadata": {},
     "output_type": "display_data"
    },
    {
     "data": {
      "application/vnd.jupyter.widget-view+json": {
       "model_id": "38110205d88c4c7aa7c1a28ec49bc44d",
       "version_major": 2,
       "version_minor": 0
      },
      "text/plain": [
       "HBox(children=(Checkbox(value=False, description='Light Fog', layout=Layout(width='300px')),))"
      ]
     },
     "metadata": {},
     "output_type": "display_data"
    },
    {
     "data": {
      "application/vnd.jupyter.widget-view+json": {
       "model_id": "b83a60de0ef14c10920abb501af25f7e",
       "version_major": 2,
       "version_minor": 0
      },
      "text/plain": [
       "VBox(children=(HBox(children=(FloatSlider(value=0.0, description='Network Output', layout=Layout(width='100px'…"
      ]
     },
     "metadata": {},
     "output_type": "display_data"
    },
    {
     "data": {
      "application/vnd.jupyter.widget-view+json": {
       "model_id": "f1a40eac300644188e7be95181ca8c89",
       "version_major": 2,
       "version_minor": 0
      },
      "text/plain": [
       "HBox(children=(FloatText(value=0.0, description='Steering:', layout=Layout(width='200px')), FloatText(value=0.…"
      ]
     },
     "metadata": {},
     "output_type": "display_data"
    }
   ],
   "source": [
    "import threading\n",
    "state_widget = ipywidgets.ToggleButtons(options=['On', 'Off'], description='Camera', value='On')\n",
    "prediction_widget = ipywidgets.Image(format='jpeg', width=camera.width, height=camera.height)\n",
    "i_widget = ipywidgets.Image(description='Image' , width=camera.width, height=camera.height)\n",
    "\n",
    "\n",
    "live_execution_widget = ipywidgets.HBox([\n",
    "    prediction_widget,i_widget,\n",
    "    state_widget\n",
    "])\n",
    "\n",
    "e1 = ipywidgets.Checkbox(\n",
    "    value=False,\n",
    "    description='Gaussian Blur',\n",
    "    disabled=False\n",
    "    , layout={'width': '300px'})\n",
    "e2 = ipywidgets.Checkbox(\n",
    "    value=False,\n",
    "    description='Contrast',\n",
    "    disabled=False\n",
    "    , layout={'width': '300px'})\n",
    "e3 = ipywidgets.Checkbox(\n",
    "    value=False,\n",
    "    description='Brightness',\n",
    "    disabled=False\n",
    "    , layout={'width': '300px'})\n",
    "e4 = ipywidgets.Checkbox(\n",
    "    value=False,\n",
    "    description='Sharpness',\n",
    "    disabled=False\n",
    ", layout={'width': '300px'})\n",
    "e5 = ipywidgets.Checkbox(\n",
    "    value=False,\n",
    "    description='Colour',\n",
    "    disabled=False\n",
    ", layout={'width': '300px'})\n",
    "e6 = ipywidgets.Checkbox(\n",
    "    value=False,\n",
    "    description='Salt Pepper Noise',\n",
    "    disabled=False\n",
    ", layout={'width': '300px'})\n",
    "e7 = ipywidgets.Checkbox(\n",
    "    value=False,\n",
    "    description='Rain Drop Blur',\n",
    "    disabled=False\n",
    ", layout={'width': '300px'})\n",
    "e8 = ipywidgets.Checkbox(\n",
    "    value=False,\n",
    "    description='Mud splash',\n",
    "    disabled=False\n",
    ", layout={'width': '300px'})\n",
    "e9 = ipywidgets.Checkbox(\n",
    "    value=False,\n",
    "    description='Shatterd Glass',\n",
    "    disabled=False\n",
    "    , layout={'width': '300px'})\n",
    "e10 = ipywidgets.Checkbox(\n",
    "    value=False,\n",
    "    description='Glass crack',\n",
    "    disabled=False\n",
    "    , layout={'width': '300px'})\n",
    "e11 = ipywidgets.Checkbox(\n",
    "    value=False,\n",
    "    description='Dirt',\n",
    "    disabled=False\n",
    "    , layout={'width': '300px'})\n",
    "e12 = ipywidgets.Checkbox(\n",
    "    value=False,\n",
    "    description='Dust',\n",
    "    disabled=False\n",
    ", layout={'width': '300px'})\n",
    "e13 = ipywidgets.Checkbox(\n",
    "    value=False,\n",
    "    description='Smog',\n",
    "    disabled=False\n",
    ", layout={'width': '300px'})\n",
    "e14 = ipywidgets.Checkbox(\n",
    "    value=False,\n",
    "    description='Snow',\n",
    "    disabled=False\n",
    ", layout={'width': '300px'})\n",
    "e15 = ipywidgets.Checkbox(\n",
    "    value=False,\n",
    "    description='Rain',\n",
    "    disabled=False\n",
    ", layout={'width': '300px'})\n",
    "e16 = ipywidgets.Checkbox(\n",
    "    value=False,\n",
    "    description='Dense Fog',\n",
    "    disabled=False\n",
    ", layout={'width': '300px'})\n",
    "e17 = ipywidgets.Checkbox(\n",
    "    value=False,\n",
    "    description='Light Fog',\n",
    "    disabled=False\n",
    ", layout={'width': '300px'})\n",
    "\n",
    "\n",
    "\n",
    "slider1 = widgets.IntSlider(description='Intensity', min=-10, max=10, value=0, step=1, orientation='horizontal', layout={'width': '300px'})\n",
    "slider2 = widgets.IntSlider(description='Intensity', min=-10, max=10, value=0, step=1, orientation='horizontal', layout={'width': '300px'})\n",
    "slider3 = widgets.IntSlider(description='Intensity', min=-10, max=10, value=0, step=1, orientation='horizontal', layout={'width': '300px'})\n",
    "slider4 = widgets.IntSlider(description='Intensity', min=-10, max=10, value=0, step=1, orientation='horizontal', layout={'width': '300px'})\n",
    "slider5 = widgets.IntSlider(description='Intensity', min=-10, max=10, value=0, step=1, orientation='horizontal', layout={'width': '300px'})\n",
    "slider6 = widgets.FloatSlider(description='Intensity', min=0, max=1, value=0, step=0.1, orientation='horizontal', layout={'width': '300px'})\n",
    "slider7 = widgets.IntSlider(description='Intensity', min=0, max=500, value=0, step=10, orientation='horizontal', layout={'width': '300px'})\n",
    "\n",
    "a = ipywidgets.VBox([e1,e2,e3,e4,e5,e6,e7])\n",
    "b = ipywidgets.VBox([slider1,slider2,slider3,slider4,slider5,slider6,slider7])\n",
    "c = ipywidgets.HBox([e8,e9,e10])\n",
    "d = ipywidgets.HBox([e11,e12,e13])\n",
    "e = ipywidgets.HBox([e14,e15,e16])\n",
    "f = ipywidgets.HBox([e17])\n",
    "\n",
    "steer = widgets.FloatText(\n",
    "    value=0,\n",
    "    description='Steering:',\n",
    "    disabled=False,\n",
    "    layout={'width': '200px'}\n",
    ")\n",
    "\n",
    "error_steer = widgets.FloatText(\n",
    "    value=0,\n",
    "    description='Steering Deviation:',\n",
    "    disabled=False,\n",
    "    layout={'width': '200px'}\n",
    ")\n",
    "\n",
    "network_output_slider = widgets.FloatSlider(description='Network Output', min=-1.0, max=1.0, value=0, step=0.01, orientation='vertical', disabled=False, layout={'width': '100px'})\n",
    "steering_gain_slider  = widgets.FloatSlider(description='Steering Gain', min=-1.0, max=1.0, value=1.0, step=0.01, orientation='vertical', layout={'width': '100px'})\n",
    "steering_bias_slider  = widgets.FloatSlider(description='Steering Bias', min=-0.5, max=0.5, value=0.0, step=0.01, orientation='vertical', layout={'width': '100px'})\n",
    "steering_value_slider = widgets.FloatSlider(description='Steering', min=-1.0, max=1.0, value=0, step=0.01, orientation='vertical', disabled=False, layout={'width': '100px'})\n",
    "throttle_slider = widgets.FloatSlider(description='Throttle', min=-1.0, max=1.0, value=0.0, step=0.01, orientation='vertical')\n",
    "\n",
    "steering_gain_link   = traitlets.link((steering_gain_slider, 'value'), (car, 'steering_gain'))\n",
    "steering_offset_link = traitlets.link((steering_bias_slider, 'value'), (car, 'steering_offset'))\n",
    "steering_value_link  = traitlets.link((steering_value_slider, 'value'), (car, 'steering'))\n",
    "throttle_slider_link = traitlets.link((throttle_slider, 'value'), (car, 'throttle'))\n",
    "\n",
    "display(ipywidgets.HBox([a,b]))\n",
    "display(c,d,e,f)\n",
    "\n",
    "display(\n",
    "    widgets.VBox(\n",
    "        [widgets.HBox([network_output_slider,\n",
    "                       widgets.Label(value=\"X\"),\n",
    "                       steering_gain_slider,\n",
    "                       widgets.Label(value=\"+\"),\n",
    "                       steering_bias_slider,\n",
    "                       widgets.Label(value=\"||\"), \n",
    "                       steering_value_slider,throttle_slider], layout=Layout(\n",
    "                                                    align_items='center'\n",
    "                                                        )\n",
    "                     ), \n",
    "         live_execution_widget]\n",
    "    )\n",
    ")\n",
    "display(ipywidgets.HBox([steer,error_steer]))"
   ]
  },
  {
   "cell_type": "code",
   "execution_count": 6,
   "metadata": {
    "scrolled": true
   },
   "outputs": [],
   "source": [
    "fi_list = [e1.value,e2.value,e3.value,e4.value,e5.value,e6.value,e7.value,e8.value,e9.value,e10.value,e11.value,e12.value,e13.value,e14.value,e15.value,e16.value,e17.value]\n",
    "slider_list = [slider1.value,slider2.value,slider3.value,slider4.value,slider5.value,slider6.value,slider7.value]\n",
    "\n",
    "#print(fi_list)\n",
    "#print(slider_list)"
   ]
  },
  {
   "cell_type": "code",
   "execution_count": 7,
   "metadata": {
    "scrolled": true
   },
   "outputs": [],
   "source": [
    "def ai(img):\n",
    "    image = preprocess(img).half()\n",
    "    output = model_trt(image).detach().cpu().numpy().flatten()\n",
    "    x = float(output[0])\n",
    "    y = float(output[1])\n",
    "    return x,y"
   ]
  },
  {
   "cell_type": "code",
   "execution_count": 8,
   "metadata": {},
   "outputs": [],
   "source": [
    "global counter\n",
    "counter = 0\n",
    "steerings_ab = []\n",
    "fault_list = []\n",
    "actual_steer = []"
   ]
  },
  {
   "cell_type": "code",
   "execution_count": 9,
   "metadata": {
    "scrolled": true
   },
   "outputs": [],
   "source": [
    "from utils import preprocess,fault_injection\n",
    "\n",
    "def update(change):\n",
    "    global counter\n",
    "    counter = counter +1\n",
    "    new_image = change['new']\n",
    "    new_image = Image.fromarray(new_image)\n",
    "    edited_image = fault_injection(new_image,fi_list,slider_list)\n",
    "    '''\n",
    "    if number in num_range:\n",
    "        edited_image = functions[number](new_image, contrast_value_slider.value)\n",
    "    else:\n",
    "        edited_image = weather(img_idx[number], new_image, size,contrast_value_slider.value)\n",
    "    '''\n",
    "    new_image = np.array(new_image)\n",
    "\n",
    "    x,y = ai(new_image)\n",
    "    e_x,e_y = ai(edited_image)\n",
    "    \n",
    "    network_output_slider.value = x * steering_gain_slider.value + steering_bias_slider.value\n",
    "    steering_value_slider.value = e_x * steering_gain_slider.value + steering_bias_slider.value\n",
    "    \n",
    "    steering = x * steering_gain_slider.value + steering_bias_slider.value\n",
    "    e_steering = e_x * steering_gain_slider.value + steering_bias_slider.value\n",
    "    if(steering<-1.0):\n",
    "        steering_value_slider.value = -1.0\n",
    "    elif(steering>1.0):\n",
    "        steering_value_slider.value = 1.0\n",
    "    else:\n",
    "        steering_value_slider.value = steering \n",
    "    car.steering = steering\n",
    "    steer.value = steering\n",
    "    error_steer.value = e_steering\n",
    "    \n",
    "    #while counter < 500:\n",
    "    #    #actual_steer.append(steering)\n",
    "    #    #fault_list.append(e_steering)\n",
    "    \n",
    "\n",
    "    #steerings_ab.append([steering,e_steering])\n",
    "    \n",
    "    if(state_widget.value == 'On'):\n",
    "        x = int(camera.width * (x / 2.0 + 0.5))\n",
    "        y = int(camera.height * (y / 2.0 + 0.5))  \n",
    "        prediction = new_image.copy()\n",
    "        prediction = cv2.circle(prediction, (x, y), 8, (255, 0, 0), 3)\n",
    "        e_x = int(camera.width * (e_x / 2.0 + 0.5))\n",
    "        e_y = int(camera.height * (e_y / 2.0 + 0.5))  \n",
    "        e_prediction = edited_image.copy()\n",
    "        e_prediction = cv2.circle(e_prediction, (e_x, e_y), 8, (255, 0, 0), 3)\n",
    "                \n",
    "        prediction_widget.value = bgr8_to_jpeg(prediction)\n",
    "        i_widget.value = bgr8_to_jpeg(e_prediction)\n",
    "\n",
    "            \n",
    "update({'new': camera.value})  # we call the function once to initialize\n",
    "camera.observe(update, names='value')\n",
    "camera.running = True"
   ]
  },
  {
   "cell_type": "code",
   "execution_count": 10,
   "metadata": {
    "scrolled": true
   },
   "outputs": [],
   "source": [
    "camera.observe(update, names='value') "
   ]
  },
  {
   "cell_type": "code",
   "execution_count": 11,
   "metadata": {
    "scrolled": true
   },
   "outputs": [],
   "source": [
    "camera.running = True"
   ]
  },
  {
   "cell_type": "code",
   "execution_count": null,
   "metadata": {},
   "outputs": [],
   "source": []
  },
  {
   "cell_type": "code",
   "execution_count": null,
   "metadata": {},
   "outputs": [],
   "source": []
  },
  {
   "cell_type": "code",
   "execution_count": null,
   "metadata": {},
   "outputs": [],
   "source": []
  },
  {
   "cell_type": "code",
   "execution_count": 15,
   "metadata": {},
   "outputs": [
    {
     "data": {
      "text/plain": [
       "104459"
      ]
     },
     "execution_count": 15,
     "metadata": {},
     "output_type": "execute_result"
    }
   ],
   "source": [
    "len(steerings_ab)"
   ]
  },
  {
   "cell_type": "code",
   "execution_count": 16,
   "metadata": {},
   "outputs": [
    {
     "ename": "NameError",
     "evalue": "name 'steerings_act' is not defined",
     "output_type": "error",
     "traceback": [
      "\u001b[0;31m---------------------------------------------------------------------------\u001b[0m",
      "\u001b[0;31mNameError\u001b[0m                                 Traceback (most recent call last)",
      "\u001b[0;32m<ipython-input-16-4b2c830cfc5c>\u001b[0m in \u001b[0;36m<module>\u001b[0;34m\u001b[0m\n\u001b[1;32m      8\u001b[0m \u001b[0;32mwhile\u001b[0m \u001b[0mnum\u001b[0m \u001b[0;34m<\u001b[0m \u001b[0;36m500\u001b[0m\u001b[0;34m:\u001b[0m\u001b[0;34m\u001b[0m\u001b[0;34m\u001b[0m\u001b[0m\n\u001b[1;32m      9\u001b[0m \u001b[0;34m\u001b[0m\u001b[0m\n\u001b[0;32m---> 10\u001b[0;31m     \u001b[0mactual_steer\u001b[0m\u001b[0;34m.\u001b[0m\u001b[0mappend\u001b[0m\u001b[0;34m(\u001b[0m\u001b[0msteerings_act\u001b[0m\u001b[0;34m)\u001b[0m\u001b[0;34m\u001b[0m\u001b[0;34m\u001b[0m\u001b[0m\n\u001b[0m\u001b[1;32m     11\u001b[0m \u001b[0;34m\u001b[0m\u001b[0m\n\u001b[1;32m     12\u001b[0m     \u001b[0;32mif\u001b[0m \u001b[0mfi_list\u001b[0m\u001b[0;34m[\u001b[0m\u001b[0;36m0\u001b[0m\u001b[0;34m]\u001b[0m \u001b[0;34m==\u001b[0m \u001b[0;36m1\u001b[0m\u001b[0;34m:\u001b[0m\u001b[0;34m\u001b[0m\u001b[0;34m\u001b[0m\u001b[0m\n",
      "\u001b[0;31mNameError\u001b[0m: name 'steerings_act' is not defined"
     ]
    }
   ],
   "source": [
    "data = pd.DataFrame({\"Actual Steering\":actual_steer,\"Faulty Steering\":fault_list})\n",
    "data.to_excel('sample_data.xlsx', sheet_name='sheet1', index=False)"
   ]
  },
  {
   "cell_type": "code",
   "execution_count": 13,
   "metadata": {},
   "outputs": [
    {
     "name": "stdout",
     "output_type": "stream",
     "text": [
      "[[1, 0.126708984375, 0.126708984375]]\n"
     ]
    }
   ],
   "source": [
    "import json\n",
    "\n",
    "json_string = json.dumps(steerings_ab)\n",
    "print(json_string)"
   ]
  },
  {
   "cell_type": "code",
   "execution_count": null,
   "metadata": {},
   "outputs": [],
   "source": []
  }
 ],
 "metadata": {
  "kernelspec": {
   "display_name": "Python 3 (ipykernel)",
   "language": "python",
   "name": "python3"
  },
  "language_info": {
   "codemirror_mode": {
    "name": "ipython",
    "version": 3
   },
   "file_extension": ".py",
   "mimetype": "text/x-python",
   "name": "python",
   "nbconvert_exporter": "python",
   "pygments_lexer": "ipython3",
   "version": "3.8.8"
  }
 },
 "nbformat": 4,
 "nbformat_minor": 4
}
