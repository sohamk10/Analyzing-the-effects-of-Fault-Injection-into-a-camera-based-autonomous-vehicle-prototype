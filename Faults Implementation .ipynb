{
 "cells": [
  {
   "cell_type": "code",
   "execution_count": 1,
   "id": "6c5c41d1",
   "metadata": {},
   "outputs": [],
   "source": [
    "import cv2\n",
    "import numpy as np\n",
    "from matplotlib import pyplot as plt\n",
    "from skimage import filters\n",
    "from PIL import Image, ImageFilter, ImageDraw, ImageEnhance\n",
    "import random\n",
    "from tabulate import tabulate\n",
    "import ipywidgets as wdg\n",
    "from IPython.display import display"
   ]
  },
  {
   "cell_type": "code",
   "execution_count": 2,
   "id": "9ebb5a84",
   "metadata": {},
   "outputs": [],
   "source": [
    "def bgr8_to_jpeg(value, quality=75):\n",
    "    return bytes(cv2.imencode('.jpg', value)[1])"
   ]
  },
  {
   "cell_type": "code",
   "execution_count": 3,
   "id": "3f75929d",
   "metadata": {},
   "outputs": [],
   "source": [
    "def gauss_blur(image_1):\n",
    "    im1 = np.array(image_1)\n",
    "    gray = cv2.cvtColor(im1,cv2.COLOR_RGB2GRAY)\n",
    "    blur = cv2.GaussianBlur(gray, (5,5),0)\n",
    "    blr_img = filters.gaussian(blur, sigma=1, mode='constant', cval=0.0)\n",
    "    return(blr_img)"
   ]
  },
  {
   "cell_type": "code",
   "execution_count": 4,
   "id": "092714d4",
   "metadata": {},
   "outputs": [],
   "source": [
    "def contrast(image_2, parameter_2):\n",
    "    im2 = ImageEnhance.Contrast(image_2)\n",
    "    im2 = im2.enhance(parameter_2)\n",
    "    return(im2)"
   ]
  },
  {
   "cell_type": "code",
   "execution_count": 5,
   "id": "c1895ff1",
   "metadata": {},
   "outputs": [],
   "source": [
    "def colour(image_5,parameter_5):\n",
    "    im5 = ImageEnhance.Colour(image_5)\n",
    "    im5 = im5.enhance(parameter_5)\n",
    "    return(im5)"
   ]
  },
  {
   "cell_type": "code",
   "execution_count": 6,
   "id": "65572e5b",
   "metadata": {},
   "outputs": [],
   "source": [
    "def sharpness(image_4,parameter_4):\n",
    "    im4 = ImageEnhance.Sharpness(image_4)\n",
    "    im4 = im4.enhance(parameter_4)\n",
    "    return(im4)\n"
   ]
  },
  {
   "cell_type": "code",
   "execution_count": 7,
   "id": "171f927a",
   "metadata": {},
   "outputs": [],
   "source": [
    "def sp_noise(image,parameter_6):\n",
    "    image_6 = np.array(image)\n",
    "    noise_img = np.zeros(image_6.shape,np.uint8)\n",
    "    thres = 1 - parameter_6\n",
    "    for i in range(image_6.shape[0]):\n",
    "        for j in range(image_6.shape[1]):\n",
    "            rdn = random.random()\n",
    "            if rdn < parameter_6:\n",
    "                noise_img[i][j] = 0\n",
    "            elif rdn > thres:\n",
    "                noise_img[i][j] = 255\n",
    "            else:\n",
    "                noise_img[i][j] = image_6[i][j]\n",
    "    return noise_img"
   ]
  },
  {
   "cell_type": "code",
   "execution_count": 8,
   "id": "85a0bb56",
   "metadata": {},
   "outputs": [],
   "source": [
    "def brightness(image_3,parameter_3):\n",
    "    im3 = ImageEnhance.Brightness(image_3)\n",
    "    im3 = im3.enhance(parameter_3)\n",
    "    return(im3)"
   ]
  },
  {
   "cell_type": "code",
   "execution_count": 9,
   "id": "a4a073a6",
   "metadata": {},
   "outputs": [],
   "source": [
    "def rain_drop_blur(image_7,parameter_7):\n",
    "    image_cpy = image_7.copy()\n",
    "    blurred_image = image_cpy.filter(ImageFilter.GaussianBlur(radius=10))\n",
    "    rain_drop_img = image_7.copy()\n",
    "    size = (image_7.size)\n",
    "\n",
    "    for i in range(0,parameter_7):\n",
    "        p1 = random.randint(0, size[0])\n",
    "        p2 = random.randint(0, size[1])\n",
    "        #print(p1, p2)\n",
    "\n",
    "        mask_im = Image.new(\"L\", image_cpy.size, 0)\n",
    "        draw = ImageDraw.Draw(mask_im)\n",
    "        draw.ellipse((p1, p2, p1+15, p2+15), fill=255)\n",
    "        #mask_im.save('mask_circle.jpg', quality=95)\n",
    "        \n",
    "    \n",
    "        rain_drop_img.paste(blurred_image, (0, 0), mask_im)\n",
    "    mask_im.show()\n",
    "    return(rain_drop_img)"
   ]
  },
  {
   "cell_type": "code",
   "execution_count": 10,
   "id": "8a8e4592",
   "metadata": {},
   "outputs": [],
   "source": [
    "def weather(foreground, image_8, size_8):\n",
    "    image_8 = image_8.resize(size,Image.ANTIALIAS)\n",
    "    foreground = foreground.resize(size_8,Image.ANTIALIAS)\n",
    "    #print(image_8.size)\n",
    "    image_8.paste(foreground, (0, 0), foreground)\n",
    "    return(image_8)"
   ]
  },
  {
   "cell_type": "code",
   "execution_count": 22,
   "id": "61375fb7",
   "metadata": {},
   "outputs": [],
   "source": [
    "img_car = Image.open(r\"D:\\Uni-Siegen\\4th Sem (SS 2022)\\Arbeit\\Trust-E\\Error code\\Test image.jpg\")\n",
    "size = (img_car.size)\n",
    "\n",
    "for_img_1  = Image.open(r\"D:\\Uni-Siegen\\4th Sem (SS 2022)\\Arbeit\\Trust-E\\Error code\\Error Injection images\\rain_2.png\")\n",
    "for_img_2  = Image.open(r\"D:\\Uni-Siegen\\4th Sem (SS 2022)\\Arbeit\\Trust-E\\Error code\\Error Injection images\\dirt.png\")\n",
    "for_img_3  = Image.open(r\"D:\\Uni-Siegen\\4th Sem (SS 2022)\\Arbeit\\Trust-E\\Error code\\Error Injection images\\rain_1.png\")\n",
    "for_img_4  = Image.open(r\"D:\\Uni-Siegen\\4th Sem (SS 2022)\\Arbeit\\Trust-E\\Error code\\Error Injection images\\crack_1.png\")\n",
    "for_img_5  = Image.open(r\"D:\\Uni-Siegen\\4th Sem (SS 2022)\\Arbeit\\Trust-E\\Error code\\Error Injection images\\crack_2.png\")\n",
    "for_img_6  = Image.open(r\"D:\\Uni-Siegen\\4th Sem (SS 2022)\\Arbeit\\Trust-E\\Error code\\Error Injection images\\fog.png\")\n",
    "for_img_7  = Image.open(r\"D:\\Uni-Siegen\\4th Sem (SS 2022)\\Arbeit\\Trust-E\\Error code\\Error Injection images\\dirt_2.png\").convert(\"RGBA\")\n",
    "for_img_8  = Image.open(r\"D:\\Uni-Siegen\\4th Sem (SS 2022)\\Arbeit\\Trust-E\\Error code\\Error Injection images\\snow-jesuit-spiritual-center-milford-13.png\").convert(\"RGBA\")\n",
    "for_img_9  = Image.open(r\"D:\\Uni-Siegen\\4th Sem (SS 2022)\\Arbeit\\Trust-E\\Error code\\Error Injection images\\dust-overlay-4.png\")\n",
    "for_img_10 = Image.open(r\"D:\\Uni-Siegen\\4th Sem (SS 2022)\\Arbeit\\Trust-E\\Error code\\Error Injection images\\804-8047958_fog-png-for-picsart.png\")"
   ]
  },
  {
   "cell_type": "code",
   "execution_count": 12,
   "id": "a9d8545c",
   "metadata": {},
   "outputs": [],
   "source": [
    "# print('The following Faults can be injected:\\n')\n",
    "\n",
    "# table = [[1,'Gaussian Blur'],[2, 'Contrast'],[3,'Brightness'],[4,'Sharpness'],[5,'Colour'],[6,'Salt Pepper Noise'],[7,'Rain Drop Blur']\n",
    "#          ,[8,'Snow'],[9,'Mud splash'],[10,'Rain'],[11,'Shatterd Glass'],[12,'Glass crack'],[13,'Smog'],[14,'Dirt']\n",
    "#          ,[15,'Dense Fog'],[16,'Dust'],[17,'Light Fog']]\n",
    "# header = [\"Sr Number\", \"Fault\"]\n",
    "# print(tabulate(table, header))\n"
   ]
  },
  {
   "cell_type": "code",
   "execution_count": 13,
   "id": "e492c918",
   "metadata": {},
   "outputs": [
    {
     "name": "stdout",
     "output_type": "stream",
     "text": [
      "Select the Fault to be injected: \n"
     ]
    },
    {
     "data": {
      "application/vnd.jupyter.widget-view+json": {
       "model_id": "8c527e387d9b45a985dfadcfa26fdd10",
       "version_major": 2,
       "version_minor": 0
      },
      "text/plain": [
       "Dropdown(description='Fault:', options=(('Gaussian Blur', 1), ('Contrast', 2), ('Brightness', 3), ('Sharpness'…"
      ]
     },
     "metadata": {},
     "output_type": "display_data"
    }
   ],
   "source": [
    "print('Select the Fault to be injected: ')\n",
    "display_fault = wdg.Dropdown(\n",
    "    options=[('Gaussian Blur', 1), ('Contrast', 2), ('Brightness', 3), ('Sharpness', 4), ('Colour', 5), ('Salt Pepper Noise', 6),\n",
    "             ('Rain Drop Blur', 7), ('Snow', 8), ('Mud splash', 9), ('Rain', 10), ('Shatterd Glass', 11), ('Glass crack', 12),\n",
    "             ('Smog', 13), ('Dirt', 14), ('Dense Fog', 15), ('Dust', 16), ('Light Fog', 17)],\n",
    "    value = 1,\n",
    "    description='Fault:',\n",
    ")\n",
    "display(display_fault)"
   ]
  },
  {
   "cell_type": "code",
   "execution_count": 112,
   "id": "7a9d15d9",
   "metadata": {},
   "outputs": [],
   "source": [
    "number = display_fault.value"
   ]
  },
  {
   "cell_type": "code",
   "execution_count": 113,
   "id": "d60dddcd",
   "metadata": {},
   "outputs": [],
   "source": [
    "#number = int(input('Enter the Sr Number of the Fault to be injected: '))\n",
    "num_range = range(2, 7, 1)"
   ]
  },
  {
   "cell_type": "code",
   "execution_count": 114,
   "id": "223c7345",
   "metadata": {
    "scrolled": true
   },
   "outputs": [],
   "source": [
    "if number in num_range:\n",
    "    print('Enter the level of intensity of fault to be injected: ')\n",
    "    Intensity_level = wdg.IntSlider(value=0,\n",
    "                              min=0,\n",
    "                              max=10,\n",
    "                              step=1,\n",
    "                              description='Intensity:',\n",
    "                              disabled=False,\n",
    "                              continuous_update=False,\n",
    "                              orientation='horizontal',\n",
    "                              readout=True,\n",
    "                            readout_format='d')\n",
    "    \n",
    "    display(Intensity_level)"
   ]
  },
  {
   "cell_type": "code",
   "execution_count": 115,
   "id": "0f3f8bfe",
   "metadata": {},
   "outputs": [],
   "source": [
    "if number == 7:\n",
    "    print('Enter the number of water droplets to be injected: ')\n",
    "    Intensity_level = wdg.IntSlider(value=0,\n",
    "                              min=0,\n",
    "                              max=5,\n",
    "                              step=1,\n",
    "                              description='Number:',\n",
    "                              disabled=False,\n",
    "                              continuous_update=False,\n",
    "                              orientation='horizontal',\n",
    "                              readout=True,\n",
    "                            readout_format='d')\n",
    "    \n",
    "    display(Intensity_level)"
   ]
  },
  {
   "cell_type": "code",
   "execution_count": 116,
   "id": "848a4793",
   "metadata": {},
   "outputs": [],
   "source": [
    "intensity_val = int(Intensity_level.value)"
   ]
  },
  {
   "cell_type": "code",
   "execution_count": 117,
   "id": "e99ee0fa",
   "metadata": {},
   "outputs": [],
   "source": [
    "functions = [0,gauss_blur,contrast,brightness,sharpness,colour,sp_noise,rain_drop_blur,weather,weather,weather,weather,weather,weather,weather,weather,weather,weather]\n",
    "img_idx = [0,0,0,0,0,0,0,0,for_img_1,for_img_2,for_img_3,for_img_4,for_img_5,for_img_6,for_img_7,for_img_8,for_img_9,for_img_10]\n",
    "\n",
    "#func_dic = {1:[gauss_blur,img_car], 2:[contrast,img_car],3:[brightness,img_car], 4: }"
   ]
  },
  {
   "cell_type": "code",
   "execution_count": 118,
   "id": "d61d246f",
   "metadata": {},
   "outputs": [],
   "source": [
    "if number == 1:\n",
    "    output = functions[number](img_car)\n",
    "    cv2.imshow(\"Blurred Image\", output)\n",
    "    cv2.waitKey(0)   \n",
    "elif number in num_range:\n",
    "    output = functions[number](img_car,intensity_val)\n",
    "    output.show()\n",
    "elif number == 7:\n",
    "    output = functions[number](img_car,intensity_val)\n",
    "    output = output.save(\"test.jpg\")\n",
    "    #output.show()\n",
    "else:\n",
    "    output = functions[number](img_idx[number], img_car, size)\n",
    "    output.show()\n",
    "    output = output.save(\"test5.jpg\")"
   ]
  }
 ],
 "metadata": {
  "kernelspec": {
   "display_name": "Python 3 (ipykernel)",
   "language": "python",
   "name": "python3"
  },
  "language_info": {
   "codemirror_mode": {
    "name": "ipython",
    "version": 3
   },
   "file_extension": ".py",
   "mimetype": "text/x-python",
   "name": "python",
   "nbconvert_exporter": "python",
   "pygments_lexer": "ipython3",
   "version": "3.8.8"
  }
 },
 "nbformat": 4,
 "nbformat_minor": 5
}
